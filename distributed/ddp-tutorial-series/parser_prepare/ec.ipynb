{
 "cells": [
  {
   "cell_type": "code",
   "execution_count": 2,
   "metadata": {},
   "outputs": [],
   "source": [
    "import sys\n",
    "import ast\n",
    "import pandas as pd"
   ]
  },
  {
   "cell_type": "code",
   "execution_count": 2,
   "metadata": {},
   "outputs": [],
   "source": [
    "listOfEvents = []\n",
    "input_file = \"out2.txt\"\n",
    "with open(input_file,\"r\") as f:\n",
    "    for line in f:\n",
    "        listOfEvents.append(ast.literal_eval(line))\n",
    "df = pd.DataFrame.from_dict(listOfEvents)\n",
    "df[\"ReadAddr\"]=\"\"\n",
    "df[\"WriteAddr\"]=\"\"\n",
    "\n"
   ]
  },
  {
   "cell_type": "code",
   "execution_count": 39,
   "metadata": {},
   "outputs": [
    {
     "data": {
      "text/plain": [
       "starttime           int64\n",
       "address            object\n",
       "size               object\n",
       "type               object\n",
       "cudatime           object\n",
       "cudatimeoverlap    object\n",
       "eventid             int64\n",
       "ReadAddr           object\n",
       "WriteAddr          object\n",
       "dtype: object"
      ]
     },
     "execution_count": 39,
     "metadata": {},
     "output_type": "execute_result"
    }
   ],
   "source": [
    "\n",
    "df.dtypes"
   ]
  },
  {
   "cell_type": "code",
   "execution_count": 40,
   "metadata": {},
   "outputs": [],
   "source": [
    "# df.loc[df[\"kernelid\"]==0,[\"ReadAddr\"]]=\"anything\"\n",
    "# df[df[\"kernelid\"]==0][\"ReadAddr\"]"
   ]
  },
  {
   "cell_type": "code",
   "execution_count": 45,
   "metadata": {},
   "outputs": [
    {
     "name": "stdout",
     "output_type": "stream",
     "text": [
      "['0x7f8e13a00000']\n",
      "['0x7f8e13a00000']\n",
      "['0x7f8e13a00000']\n",
      "['0x7f8e13a00000']\n",
      "['0x7f8e13a00000']\n",
      "['0x7f8e13a00000']\n",
      "['0x7f8e13a00000']\n",
      "['0x7f8e13a00000']\n",
      "['0x7f8e13a00000']\n",
      "['0x7f8d82600000']\n",
      "['0x7f8e13a00000']\n",
      "['0x7f8d82600000']\n",
      "['0x7f8d82600000']\n",
      "['0x7f8d82600000']\n",
      "['0x7f8d82600000']\n",
      "['0x7f8e13a00000']\n",
      "['0x7f8e13a00000']\n",
      "['0x7f8e13a00000']\n",
      "['0x7f8e13a00000']\n",
      "['0x7f8d82600000']\n",
      "['0x7f8d82600000']\n",
      "['0x7f8e13a00000']\n",
      "['0x7f8e13a00000']\n",
      "['0x7f8d82600000']\n",
      "['0x7f8e13a00000', '0x7f8d82600000']\n",
      "['0x7f8e13a00000']\n",
      "['0x7f8e13a00000']\n",
      "['0x7f8e13a00000']\n",
      "['0x7f8e13a00000']\n",
      "['0x7f8e13a00000']\n",
      "['0x7f8e13a00000']\n",
      "['0x7f8e13a00000']\n",
      "['0x7f8e13a00000']\n",
      "['0x7f8e13a00000']\n",
      "['0x7f8e13a00000']\n",
      "['0x7f8e13a00000']\n",
      "['0x7f8e13a00000']\n",
      "['0x7f8e13a00000']\n",
      "[]\n",
      "['0x7f8e13a00000']\n",
      "[]\n",
      "['0x7f8e13a00000']\n",
      "['0x7f8e13a00000']\n",
      "['0x7f8e13a00000']\n",
      "['0x7f8e13a00000']\n",
      "['0x7f8e13a00000']\n",
      "['0x7f8e13a00000']\n",
      "['0x7f8e13a00000']\n",
      "['0x7f8e13c00000', '0x7f8e13a00000']\n",
      "['0x7f8e13a00000']\n",
      "['0x7f8e13a00000']\n",
      "['0x7f8e13a00000']\n",
      "['0x7f8e13a00000']\n",
      "['0x7f8e13a00000']\n",
      "['0x7f8e13a00000']\n",
      "['0x7f8e13a00000']\n",
      "['0x7f8e13a00000']\n",
      "['0x7f8e13a00000']\n",
      "['0x7f8e13a00000']\n",
      "['0x7f8e13a00000']\n",
      "['0x7f8e13a00000']\n",
      "['0x7f8e13a00000']\n",
      "['0x7f8e13a00000']\n",
      "['0x7f8e13a00000']\n",
      "['0x7f8e13c00000', '0x7f8e13a00000']\n",
      "['0x7f8d82600000']\n",
      "['0x7f8e13a00000']\n",
      "['0x7f8e13a00000']\n",
      "[]\n",
      "['0x7f8d82600000']\n",
      "['0x7f8e13a00000']\n",
      "['0x7f8d82600000']\n",
      "['0x7f8d82600000']\n",
      "['0x7f8d82600000']\n",
      "[]\n",
      "['0x7f8d82600000']\n",
      "['0x7f8d82600000', '0x7f8e13a00000']\n",
      "[]\n",
      "['0x7f8e13a00000']\n",
      "['0x7f8d82600000']\n",
      "['0x7f8d82600000']\n",
      "['0x7f8d82600000']\n",
      "['0x7f8d82600000']\n",
      "['0x7f8d82600000']\n",
      "['0x7f8d82600000']\n",
      "['0x7f8e13a00000']\n",
      "['0x7f8d82600000']\n",
      "['0x7f8e13a00000']\n",
      "[]\n",
      "['0x7f8d82600000']\n",
      "['0x7f8d82600000', '0x7f8e13a00000']\n",
      "['0x7f8d82600000']\n",
      "['0x7f8d82600000', '0x7f8e13a00000']\n",
      "['0x7f8d82600000']\n",
      "['0x7f8e13a00000']\n",
      "['0x7f8d81000000']\n",
      "['0x7f8d82600000']\n",
      "['0x7f8d81000000']\n",
      "['0x7f8d81000000']\n",
      "['0x7f8d81000000']\n",
      "['0x7f8d81000000']\n",
      "['0x7f8d82600000']\n",
      "['0x7f8d82600000']\n",
      "['0x7f8e13a00000']\n",
      "['0x7f8d82600000', '0x7f8e13a00000']\n",
      "['0x7f8e13a00000']\n"
     ]
    }
   ],
   "source": [
    "nvbit_file = \"../mem_trace_multilayer.txt\"\n",
    "with open(nvbit_file,\"r\") as f:\n",
    "    for line in f:\n",
    "        if \"Read\" in line:\n",
    "            data = line.split(\":\")[1]\n",
    "            data = data.split(\",\")\n",
    "            kernelid = int(data[1])\n",
    "            readAddr = [e.strip() for e in data[2:] if e != \"0x0\"]\n",
    "            #print(readAddr)\n",
    "            df.loc[(df[\"type\"]!=\"allocate\") & (df[\"eventid\"]==kernelid),[\"ReadAddr\"]]=str(readAddr)\n",
    "        if \"Write\" in line:\n",
    "            data = line.split(\":\")[1]\n",
    "            data = data.split(\",\")\n",
    "            kernelid = int(data[1])\n",
    "            writeAddr = [e.strip() for e in data[2:] if e != \"0x0\"]\n",
    "            #print(writeAddr)\n",
    "            df.loc[(df[\"type\"]!=\"allocate\") & (df[\"eventid\"]==kernelid),[\"WriteAddr\"]]=str(writeAddr)\n",
    "            \n"
   ]
  },
  {
   "cell_type": "code",
   "execution_count": 3,
   "metadata": {},
   "outputs": [],
   "source": [
    "listOfEvents = []\n",
    "input_file_nvbit = \"out2_nvbit.txt\"\n",
    "with open(input_file_nvbit,\"r\") as f:\n",
    "    for line in f:\n",
    "        listOfEvents.append(ast.literal_eval(line))\n",
    "df_realaddr = pd.DataFrame.from_dict(listOfEvents)"
   ]
  },
  {
   "cell_type": "code",
   "execution_count": 17,
   "metadata": {},
   "outputs": [],
   "source": [
    "def get_pagesAllocated(addr, size):\n",
    "    if size < 0:\n",
    "        return \"\"\n",
    "    else:\n",
    "        pages_to_return = []\n",
    "        maxAddr = addr + size\n",
    "        pageAddr = addr // 4096 *4096\n",
    "        while pageAddr <= maxAddr:\n",
    "            pages_to_return.append(pageAddr)\n",
    "            pageAddr += 4096\n",
    "    return pages_to_return"
   ]
  },
  {
   "cell_type": "code",
   "execution_count": 5,
   "metadata": {},
   "outputs": [
    {
     "data": {
      "text/html": [
       "<div>\n",
       "<style scoped>\n",
       "    .dataframe tbody tr th:only-of-type {\n",
       "        vertical-align: middle;\n",
       "    }\n",
       "\n",
       "    .dataframe tbody tr th {\n",
       "        vertical-align: top;\n",
       "    }\n",
       "\n",
       "    .dataframe thead th {\n",
       "        text-align: right;\n",
       "    }\n",
       "</style>\n",
       "<table border=\"1\" class=\"dataframe\">\n",
       "  <thead>\n",
       "    <tr style=\"text-align: right;\">\n",
       "      <th></th>\n",
       "      <th>address</th>\n",
       "      <th>size</th>\n",
       "    </tr>\n",
       "  </thead>\n",
       "  <tbody>\n",
       "    <tr>\n",
       "      <th>0</th>\n",
       "      <td>184576128</td>\n",
       "      <td>8</td>\n",
       "    </tr>\n",
       "    <tr>\n",
       "      <th>1</th>\n",
       "      <td>184662848</td>\n",
       "      <td>8</td>\n",
       "    </tr>\n",
       "    <tr>\n",
       "      <th>2</th>\n",
       "      <td>1475545408</td>\n",
       "      <td>400000</td>\n",
       "    </tr>\n",
       "    <tr>\n",
       "      <th>3</th>\n",
       "      <td>184665792</td>\n",
       "      <td>8</td>\n",
       "    </tr>\n",
       "    <tr>\n",
       "      <th>4</th>\n",
       "      <td>184665792</td>\n",
       "      <td>-8</td>\n",
       "    </tr>\n",
       "    <tr>\n",
       "      <th>...</th>\n",
       "      <td>...</td>\n",
       "      <td>...</td>\n",
       "    </tr>\n",
       "    <tr>\n",
       "      <th>77</th>\n",
       "      <td>140245754445824</td>\n",
       "      <td>2048</td>\n",
       "    </tr>\n",
       "    <tr>\n",
       "      <th>78</th>\n",
       "      <td>140245731639296</td>\n",
       "      <td>1644032</td>\n",
       "    </tr>\n",
       "    <tr>\n",
       "      <th>79</th>\n",
       "      <td>140245731639296</td>\n",
       "      <td>-1644032</td>\n",
       "    </tr>\n",
       "    <tr>\n",
       "      <th>80</th>\n",
       "      <td>140248192397824</td>\n",
       "      <td>512</td>\n",
       "    </tr>\n",
       "    <tr>\n",
       "      <th>81</th>\n",
       "      <td>140245755444736</td>\n",
       "      <td>-602112</td>\n",
       "    </tr>\n",
       "  </tbody>\n",
       "</table>\n",
       "<p>82 rows × 2 columns</p>\n",
       "</div>"
      ],
      "text/plain": [
       "            address     size\n",
       "0         184576128        8\n",
       "1         184662848        8\n",
       "2        1475545408   400000\n",
       "3         184665792        8\n",
       "4         184665792       -8\n",
       "..              ...      ...\n",
       "77  140245754445824     2048\n",
       "78  140245731639296  1644032\n",
       "79  140245731639296 -1644032\n",
       "80  140248192397824      512\n",
       "81  140245755444736  -602112\n",
       "\n",
       "[82 rows x 2 columns]"
      ]
     },
     "execution_count": 5,
     "metadata": {},
     "output_type": "execute_result"
    }
   ],
   "source": [
    "df_realaddr['address'] = df_realaddr['address'].apply(lambda x:int(x,0))\n",
    "df_realaddr['size'] = df_realaddr['size'].astype('int')\n",
    "df_realaddr[['address','size']]\n"
   ]
  },
  {
   "cell_type": "code",
   "execution_count": 18,
   "metadata": {},
   "outputs": [],
   "source": [
    "df_realaddr['col_3'] = df_realaddr.apply(lambda x: str(get_pagesAllocated(x['address'], x['size'])), axis=1)"
   ]
  },
  {
   "cell_type": "code",
   "execution_count": 19,
   "metadata": {},
   "outputs": [
    {
     "data": {
      "text/plain": [
       "0                                           [184573952]\n",
       "1                                           [184659968]\n",
       "2     [1475543040, 1475547136, 1475551232, 147555532...\n",
       "3                                           [184664064]\n",
       "4                                                      \n",
       "                            ...                        \n",
       "77                                    [140245754445824]\n",
       "78    [140245731639296, 140245731643392, 14024573164...\n",
       "79                                                     \n",
       "80                                    [140248192397312]\n",
       "81                                                     \n",
       "Name: col_3, Length: 82, dtype: object"
      ]
     },
     "execution_count": 19,
     "metadata": {},
     "output_type": "execute_result"
    }
   ],
   "source": [
    "df_realaddr['col_3']"
   ]
  },
  {
   "cell_type": "code",
   "execution_count": 51,
   "metadata": {},
   "outputs": [],
   "source": [
    "realaddr = df_realaddr[\"address\"]\n",
    "for i, ra in enumerate(realaddr):\n",
    "    df.loc[(df[\"type\"]==\"allocate\") & (df[\"eventid\"] == i),[\"address\"]]=ra"
   ]
  },
  {
   "cell_type": "code",
   "execution_count": 52,
   "metadata": {},
   "outputs": [],
   "source": [
    "df.to_csv(input_file.split('.')[0]+\".csv\")"
   ]
  }
 ],
 "metadata": {
  "kernelspec": {
   "display_name": "cnn",
   "language": "python",
   "name": "python3"
  },
  "language_info": {
   "codemirror_mode": {
    "name": "ipython",
    "version": 3
   },
   "file_extension": ".py",
   "mimetype": "text/x-python",
   "name": "python",
   "nbconvert_exporter": "python",
   "pygments_lexer": "ipython3",
   "version": "3.9.16"
  },
  "orig_nbformat": 4
 },
 "nbformat": 4,
 "nbformat_minor": 2
}
