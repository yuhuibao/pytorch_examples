{
 "cells": [
  {
   "cell_type": "code",
   "execution_count": 37,
   "metadata": {},
   "outputs": [],
   "source": [
    "import sys\n",
    "import ast\n",
    "import pandas as pd"
   ]
  },
  {
   "cell_type": "code",
   "execution_count": 38,
   "metadata": {},
   "outputs": [],
   "source": [
    "listOfEvents = []\n",
    "input_file = \"out2.txt\"\n",
    "with open(input_file,\"r\") as f:\n",
    "    for line in f:\n",
    "        listOfEvents.append(ast.literal_eval(line))\n",
    "df = pd.DataFrame.from_dict(listOfEvents)\n",
    "df[\"ReadAddr\"]=\"\"\n",
    "df[\"WriteAddr\"]=\"\"\n",
    "\n"
   ]
  },
  {
   "cell_type": "code",
   "execution_count": 39,
   "metadata": {},
   "outputs": [
    {
     "data": {
      "text/plain": [
       "starttime           int64\n",
       "address            object\n",
       "size               object\n",
       "type               object\n",
       "cudatime           object\n",
       "cudatimeoverlap    object\n",
       "eventid             int64\n",
       "ReadAddr           object\n",
       "WriteAddr          object\n",
       "dtype: object"
      ]
     },
     "execution_count": 39,
     "metadata": {},
     "output_type": "execute_result"
    }
   ],
   "source": [
    "\n",
    "df.dtypes"
   ]
  },
  {
   "cell_type": "code",
   "execution_count": 40,
   "metadata": {},
   "outputs": [],
   "source": [
    "# df.loc[df[\"kernelid\"]==0,[\"ReadAddr\"]]=\"anything\"\n",
    "# df[df[\"kernelid\"]==0][\"ReadAddr\"]"
   ]
  },
  {
   "cell_type": "code",
   "execution_count": 45,
   "metadata": {},
   "outputs": [
    {
     "name": "stdout",
     "output_type": "stream",
     "text": [
      "['0x7f8e13a00000']\n",
      "['0x7f8e13a00000']\n",
      "['0x7f8e13a00000']\n",
      "['0x7f8e13a00000']\n",
      "['0x7f8e13a00000']\n",
      "['0x7f8e13a00000']\n",
      "['0x7f8e13a00000']\n",
      "['0x7f8e13a00000']\n",
      "['0x7f8e13a00000']\n",
      "['0x7f8d82600000']\n",
      "['0x7f8e13a00000']\n",
      "['0x7f8d82600000']\n",
      "['0x7f8d82600000']\n",
      "['0x7f8d82600000']\n",
      "['0x7f8d82600000']\n",
      "['0x7f8e13a00000']\n",
      "['0x7f8e13a00000']\n",
      "['0x7f8e13a00000']\n",
      "['0x7f8e13a00000']\n",
      "['0x7f8d82600000']\n",
      "['0x7f8d82600000']\n",
      "['0x7f8e13a00000']\n",
      "['0x7f8e13a00000']\n",
      "['0x7f8d82600000']\n",
      "['0x7f8e13a00000', '0x7f8d82600000']\n",
      "['0x7f8e13a00000']\n",
      "['0x7f8e13a00000']\n",
      "['0x7f8e13a00000']\n",
      "['0x7f8e13a00000']\n",
      "['0x7f8e13a00000']\n",
      "['0x7f8e13a00000']\n",
      "['0x7f8e13a00000']\n",
      "['0x7f8e13a00000']\n",
      "['0x7f8e13a00000']\n",
      "['0x7f8e13a00000']\n",
      "['0x7f8e13a00000']\n",
      "['0x7f8e13a00000']\n",
      "['0x7f8e13a00000']\n",
      "[]\n",
      "['0x7f8e13a00000']\n",
      "[]\n",
      "['0x7f8e13a00000']\n",
      "['0x7f8e13a00000']\n",
      "['0x7f8e13a00000']\n",
      "['0x7f8e13a00000']\n",
      "['0x7f8e13a00000']\n",
      "['0x7f8e13a00000']\n",
      "['0x7f8e13a00000']\n",
      "['0x7f8e13c00000', '0x7f8e13a00000']\n",
      "['0x7f8e13a00000']\n",
      "['0x7f8e13a00000']\n",
      "['0x7f8e13a00000']\n",
      "['0x7f8e13a00000']\n",
      "['0x7f8e13a00000']\n",
      "['0x7f8e13a00000']\n",
      "['0x7f8e13a00000']\n",
      "['0x7f8e13a00000']\n",
      "['0x7f8e13a00000']\n",
      "['0x7f8e13a00000']\n",
      "['0x7f8e13a00000']\n",
      "['0x7f8e13a00000']\n",
      "['0x7f8e13a00000']\n",
      "['0x7f8e13a00000']\n",
      "['0x7f8e13a00000']\n",
      "['0x7f8e13c00000', '0x7f8e13a00000']\n",
      "['0x7f8d82600000']\n",
      "['0x7f8e13a00000']\n",
      "['0x7f8e13a00000']\n",
      "[]\n",
      "['0x7f8d82600000']\n",
      "['0x7f8e13a00000']\n",
      "['0x7f8d82600000']\n",
      "['0x7f8d82600000']\n",
      "['0x7f8d82600000']\n",
      "[]\n",
      "['0x7f8d82600000']\n",
      "['0x7f8d82600000', '0x7f8e13a00000']\n",
      "[]\n",
      "['0x7f8e13a00000']\n",
      "['0x7f8d82600000']\n",
      "['0x7f8d82600000']\n",
      "['0x7f8d82600000']\n",
      "['0x7f8d82600000']\n",
      "['0x7f8d82600000']\n",
      "['0x7f8d82600000']\n",
      "['0x7f8e13a00000']\n",
      "['0x7f8d82600000']\n",
      "['0x7f8e13a00000']\n",
      "[]\n",
      "['0x7f8d82600000']\n",
      "['0x7f8d82600000', '0x7f8e13a00000']\n",
      "['0x7f8d82600000']\n",
      "['0x7f8d82600000', '0x7f8e13a00000']\n",
      "['0x7f8d82600000']\n",
      "['0x7f8e13a00000']\n",
      "['0x7f8d81000000']\n",
      "['0x7f8d82600000']\n",
      "['0x7f8d81000000']\n",
      "['0x7f8d81000000']\n",
      "['0x7f8d81000000']\n",
      "['0x7f8d81000000']\n",
      "['0x7f8d82600000']\n",
      "['0x7f8d82600000']\n",
      "['0x7f8e13a00000']\n",
      "['0x7f8d82600000', '0x7f8e13a00000']\n",
      "['0x7f8e13a00000']\n"
     ]
    }
   ],
   "source": [
    "nvbit_file = \"../mem_trace_multilayer.txt\"\n",
    "with open(nvbit_file,\"r\") as f:\n",
    "    for line in f:\n",
    "        if \"Read\" in line:\n",
    "            data = line.split(\":\")[1]\n",
    "            data = data.split(\",\")\n",
    "            kernelid = int(data[1])\n",
    "            readAddr = [e.strip() for e in data[2:] if e != \"0x0\"]\n",
    "            print(readAddr)\n",
    "            df.loc[(df[\"type\"]!=\"allocate\") & (df[\"eventid\"]==kernelid),[\"ReadAddr\"]]=str(readAddr)\n",
    "        if \"Write\" in line:\n",
    "            data = line.split(\":\")[1]\n",
    "            data = data.split(\",\")\n",
    "            kernelid = int(data[1])\n",
    "            writeAddr = [e.strip() for e in data[2:] if e != \"0x0\"]\n",
    "            print(writeAddr)\n",
    "            df.loc[(df[\"type\"]!=\"allocate\") & (df[\"eventid\"]==kernelid),[\"WriteAddr\"]]=str(writeAddr)\n",
    "            \n"
   ]
  },
  {
   "cell_type": "code",
   "execution_count": 49,
   "metadata": {},
   "outputs": [],
   "source": [
    "listOfEvents = []\n",
    "input_file_nvbit = \"out2_nvbit.txt\"\n",
    "with open(input_file_nvbit,\"r\") as f:\n",
    "    for line in f:\n",
    "        listOfEvents.append(ast.literal_eval(line))\n",
    "df_realaddr = pd.DataFrame.from_dict(listOfEvents)"
   ]
  },
  {
   "cell_type": "code",
   "execution_count": 51,
   "metadata": {},
   "outputs": [],
   "source": [
    "realaddr = df_realaddr[\"address\"]\n",
    "for i, ra in enumerate(realaddr):\n",
    "    df.loc[(df[\"type\"]==\"allocate\") & (df[\"eventid\"] == i),[\"address\"]]=ra"
   ]
  },
  {
   "cell_type": "code",
   "execution_count": 52,
   "metadata": {},
   "outputs": [],
   "source": [
    "df.to_csv(input_file.split('.')[0]+\".csv\")"
   ]
  }
 ],
 "metadata": {
  "kernelspec": {
   "display_name": "cnn",
   "language": "python",
   "name": "python3"
  },
  "language_info": {
   "codemirror_mode": {
    "name": "ipython",
    "version": 3
   },
   "file_extension": ".py",
   "mimetype": "text/x-python",
   "name": "python",
   "nbconvert_exporter": "python",
   "pygments_lexer": "ipython3",
   "version": "3.9.16"
  },
  "orig_nbformat": 4
 },
 "nbformat": 4,
 "nbformat_minor": 2
}
